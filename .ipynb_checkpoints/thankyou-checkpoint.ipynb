{
 "cells": [
  {
   "cell_type": "code",
   "execution_count": 1,
   "metadata": {},
   "outputs": [],
   "source": [
    "# Ringraziare chi ti ha scritto gli auguri su Facebook\n",
    "# Versione 0.1 - 07/05/2020\n",
    "\n",
    "from selenium import webdriver\n",
    "from selenium.webdriver.common.by import By\n",
    "from selenium.webdriver.support.ui import WebDriverWait\n",
    "from selenium.webdriver.support import expected_conditions as EC\n",
    "from selenium.webdriver.common.keys import Keys\n",
    "from selenium.common.exceptions import NoSuchElementException\n",
    "import time\n",
    "import random\n",
    "\n",
    "profile = webdriver.FirefoxProfile()\n",
    "browser = webdriver.Firefox(profile)\n",
    "\n",
    "ringraziamento = [', grazie mille. Un abbraccio grande',', grazie davvero',' Grazie 🥰',' Grazie di cuore',', grazie mille del pensiero ',' thank you my Dear',' Grazie 🤗' ]\n",
    "numeroringraziamenti = len(ringraziamento)\n",
    "\n",
    "mailfacebook = '' #INSERISCI LA MAIL O l'USER\n",
    "passfacebook = '' #INSERISCI LA PASS"
   ]
  },
  {
   "cell_type": "code",
   "execution_count": 2,
   "metadata": {},
   "outputs": [],
   "source": [
    "#ANDIAMO SUL NOSTRO PROFILO\n",
    "time.sleep(3)\n",
    "browser.get(\"https://www.facebook.com/profile.php\")\n",
    "time.sleep(2)\n",
    "\n",
    "loggato = browser.find_elements_by_xpath(\"//h2[contains(text(),'Questa pagina non è disponibile')]\")\n",
    "time.sleep(4)\n",
    "\n",
    "if len(loggato) > 0:\n",
    "    browser.get(\"https://www.facebook.com/login/device-based/regular/login/\")\n",
    "    campomail = browser.find_element_by_xpath(\"//input[@id='email']\")\n",
    "    campopass = browser.find_element_by_xpath(\"//input[@id='pass']\")\n",
    "    pulsantelogin = browser.find_element_by_xpath(\"//button[@id='loginbutton']\")\n",
    "    campomail.send_keys(mailfacebook)\n",
    "    time.sleep(1)\n",
    "    campopass.send_keys(passfacebook)\n",
    "    time.sleep(1)\n",
    "    pulsantelogin.click()\n",
    "    time.sleep(4)\n",
    "    browser.get(\"https://www.facebook.com/profile.php\")"
   ]
  },
  {
   "cell_type": "code",
   "execution_count": 3,
   "metadata": {},
   "outputs": [],
   "source": [
    "#PROVIAMO AD APRIRE TUTTI I POST CHE CI HANNO SCRITTO\n",
    "caricanealtri = browser.find_elements_by_xpath(\"//li[contains(@class, 'showAll')]/a\")\n",
    "\n",
    "while len(caricanealtri) > 0:\n",
    "    caricanealtri[0].click()\n",
    "    time.sleep(4)\n",
    "    caricanealtri = browser.find_elements_by_xpath(\"//li[contains(@class, 'showAll')]/a\")"
   ]
  },
  {
   "cell_type": "code",
   "execution_count": 4,
   "metadata": {},
   "outputs": [],
   "source": [
    "#RACCOGLIAMO I SINGOLI POST IN UN ELENCO\n",
    "primaparteauguri = browser.find_elements_by_xpath(\"//ul[contains(@class, 'uiList uiCollapsedList ')]/li/div\")\n",
    "secondaparteauguri = browser.find_elements_by_xpath(\"//ul[contains(@class, 'uiList uiCollapsedList ')]/ul/li/div\")\n",
    "tuttigliauguri = primaparteauguri + secondaparteauguri"
   ]
  },
  {
   "cell_type": "code",
   "execution_count": 14,
   "metadata": {},
   "outputs": [],
   "source": [
    "#RINGRAZIAMO GLI AMICI UNO PER UNO\n",
    "for augurio in tuttigliauguri:\n",
    "    checkliked = augurio.find_elements_by_xpath(\".//a[contains(@aria-pressed, 'true')]\")\n",
    "    checkcommentato = augurio.find_elements_by_xpath(\".//h6[contains(text(),'Commenti')]\")\n",
    "    #print(str(len(checkcommentato))+\" commenti e \"+str(len(checkliked))+\" like\")\n",
    "\n",
    "    try:\n",
    "        if checkcommentato == 0 and checkliked == 0:\n",
    "            nomeaugurante = str(augurio.find_element_by_xpath(\".//h6/span/span/a\").get_attribute('title')).split(\" \")[0]\n",
    "            apprezzamento = augurio.find_element_by_xpath(\".//a[contains(@aria-pressed, 'false')]\")\n",
    "            apprezzamento.click()\n",
    "            spaziocommento = augurio.find_element_by_xpath(\".//div[contains(@aria-label, 'Scrivi un commento...')]\")\n",
    "            spaziocommento.click()\n",
    "            time.sleep(1)\n",
    "            spaziocommento.send_keys(nomeaugurante+ringraziamento[random.randint(1,numeroringraziamenti)])\n",
    "            time.sleep(2)\n",
    "            spaziocommento.send_keys(Keys.ENTER)\n",
    "            time.sleep(4)\n",
    "            print(nomeaugurante+\" ringraziato\")\n",
    "    except:\n",
    "        print(\"Ho cannato Bro\")\n",
    "        continue"
   ]
  }
 ],
 "metadata": {
  "kernelspec": {
   "display_name": "Python 3",
   "language": "python",
   "name": "python3"
  },
  "language_info": {
   "codemirror_mode": {
    "name": "ipython",
    "version": 3
   },
   "file_extension": ".py",
   "mimetype": "text/x-python",
   "name": "python",
   "nbconvert_exporter": "python",
   "pygments_lexer": "ipython3",
   "version": "3.7.3"
  }
 },
 "nbformat": 4,
 "nbformat_minor": 2
}
